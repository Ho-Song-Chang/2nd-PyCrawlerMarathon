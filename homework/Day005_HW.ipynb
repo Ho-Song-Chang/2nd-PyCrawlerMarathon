{
 "cells": [
  {
   "cell_type": "markdown",
   "metadata": {},
   "source": [
    "# API 資料串接 - 以 Dcard API 實作範例\n",
    "\n",
    "* 了解 Dcard API 使用方式與回傳內容\n",
    "* 撰寫程式存取 API 且解析 JSON 格式資料\n"
   ]
  },
  {
   "cell_type": "markdown",
   "metadata": {},
   "source": [
    "## 作業目標\n",
    "\n",
    "* 請利用 API: https://www.dcard.tw/_api/forums/pet/posts?popular=true 回答下列問題：\n",
    "\n",
    "1. 這個 API 一次會回傳幾筆資料？每一筆資料包含哪些欄位？\n",
    "2. 取出每一筆資料的「標題」、「貼文時間」、「留言人數」、「按讚人數」\n",
    "3. 計算熱門/非熱門文章的「平均留言人數」與「平均按讚人數」"
   ]
  },
  {
   "cell_type": "code",
   "execution_count": 2,
   "metadata": {},
   "outputs": [
    {
     "name": "stdout",
     "output_type": "stream",
     "text": [
      "30\n"
     ]
    }
   ],
   "source": [
    "# 1. 這個 API 一次會回傳幾筆資料？每一筆資料包含哪些欄位？\n",
    "import requests\n",
    "import json\n",
    "import os\n",
    "r = requests.get('https://www.dcard.tw/_api/forums/pet/posts?popular=true')\n",
    "contents = json.loads(r.text)\n",
    "count = 0\n",
    "for content in contents:\n",
    "    if content['id'] != 0:\n",
    "        count+=1\n",
    "print(count) #count = 30，代表有30筆資料"
   ]
  },
  {
   "cell_type": "code",
   "execution_count": 39,
   "metadata": {},
   "outputs": [
    {
     "name": "stdout",
     "output_type": "stream",
     "text": [
      "有人有看過這麼有喜感的貓嗎\n",
      "2020-02-27T00:41:45.740Z\n",
      "85\n",
      "1870\n",
      "小蝦蝦不知道可不可以上熱門🥺\n",
      "2020-02-26T22:13:53.583Z\n",
      "42\n",
      "415\n",
      "#圖 在公園遛天竺鼠ヽ(✿ﾟ▽ﾟ)ノ\n",
      "2020-02-27T08:00:49.162Z\n",
      "5\n",
      "100\n",
      "看起來很衰的臘腸狗\n",
      "2020-02-27T03:24:54.078Z\n",
      "7\n",
      "99\n",
      "不喜歡洗澡的狗\n",
      "2020-02-27T01:06:35.270Z\n",
      "9\n",
      "50\n",
      "拍屁屁奴隸的心聲\n",
      "2020-02-27T13:38:01.565Z\n",
      "3\n",
      "31\n",
      "習慣躺枕頭睡覺\n",
      "2020-02-27T05:50:41.877Z\n",
      "7\n",
      "25\n",
      "文長 我擁有全世界最棒的貓咪\n",
      "2020-02-27T23:47:16.852Z\n",
      "5\n",
      "22\n",
      "曬照🐿️\n",
      "2020-02-28T03:46:37.460Z\n",
      "0\n",
      "20\n",
      "來曬一下家裡的黑狗🐶\n",
      "2020-02-27T21:10:15.772Z\n",
      "1\n",
      "19\n",
      "朕想怎麼睡 就怎麼睡(˶‾᷄ ⁻̫ ‾᷅˵)\n",
      "2020-02-27T19:53:48.404Z\n",
      "0\n",
      "18\n",
      "#協尋紅貴賓#懸賞金$5000#請大家幫忙頂上去！\n",
      "2020-02-27T17:05:28.180Z\n",
      "3\n",
      "17\n",
      "當你家的貓在看風景時⋯\n",
      "2020-02-27T06:48:59.523Z\n",
      "0\n",
      "15\n",
      "賤人！\n",
      "2020-02-27T17:57:19.700Z\n",
      "2\n",
      "14\n",
      "來曬一下可爾必思\n",
      "2020-02-27T08:19:49.020Z\n",
      "1\n",
      "14\n",
      "露屁屁外星人\n",
      "2020-02-27T07:09:01.168Z\n",
      "0\n",
      "13\n",
      "家有小三\n",
      "2020-02-27T10:14:48.735Z\n",
      "0\n",
      "11\n",
      "三腳黑妞；救援孕狗不是件容易的事\n",
      "2020-02-28T04:16:05.721Z\n",
      "0\n",
      "9\n",
      "看那顫抖的小眼眶\n",
      "2020-02-27T22:52:19.976Z\n",
      "2\n",
      "9\n",
      "🐔抓癢\n",
      "2020-02-27T05:50:48.792Z\n",
      "3\n",
      "9\n",
      "[抒發文]小狗狗去天堂了\n",
      "2020-02-27T14:08:40.800Z\n",
      "3\n",
      "7\n",
      "從小養到大的主子真的信任我嗎\n",
      "2020-02-27T08:13:49.089Z\n",
      "6\n",
      "7\n",
      "學妹揪我一起看貓\n",
      "2020-02-27T05:18:10.961Z\n",
      "4\n",
      "7\n",
      "新手開缸小紀錄｜準備&第一天\n",
      "2020-02-26T22:43:32.501Z\n",
      "7\n",
      "7\n",
      "柯基犬曬萌照\n",
      "2020-02-28T04:37:56.515Z\n",
      "0\n",
      "6\n",
      "回不去的喵喵\n",
      "2020-02-27T01:49:34.657Z\n",
      "1\n",
      "6\n",
      "所以說到底是什麼生物呢\n",
      "2020-02-28T06:28:07.294Z\n",
      "0\n",
      "5\n",
      "尋狗 新莊夜市走丟的\n",
      "2020-02-28T02:57:24.261Z\n",
      "0\n",
      "5\n",
      "求這篇限時的貓咪\n",
      "2020-02-28T06:23:06.364Z\n",
      "0\n",
      "4\n",
      "彈力柴\n",
      "2020-02-27T14:15:42.605Z\n",
      "0\n",
      "4\n"
     ]
    }
   ],
   "source": [
    "# 2. 取出每一筆資料的「標題」、「貼文時間」、「留言人數」、「按讚人數」\n",
    "for content in contents:\n",
    "    print(content['title'])\n",
    "    print(content['createdAt'])\n",
    "    print(content['commentCount'])\n",
    "    print(content['likeCount'])"
   ]
  },
  {
   "cell_type": "code",
   "execution_count": 3,
   "metadata": {
    "scrolled": false
   },
   "outputs": [
    {
     "ename": "NameError",
     "evalue": "name 'commentCount' is not defined",
     "output_type": "error",
     "traceback": [
      "\u001b[1;31m---------------------------------------------------------------------------\u001b[0m",
      "\u001b[1;31mNameError\u001b[0m                                 Traceback (most recent call last)",
      "\u001b[1;32m<ipython-input-3-5a0d75c452c5>\u001b[0m in \u001b[0;36m<module>\u001b[1;34m\u001b[0m\n\u001b[0;32m      5\u001b[0m \u001b[0mlike_Count\u001b[0m \u001b[1;33m=\u001b[0m \u001b[1;36m0\u001b[0m\u001b[1;33m\u001b[0m\u001b[1;33m\u001b[0m\u001b[0m\n\u001b[0;32m      6\u001b[0m \u001b[1;32mfor\u001b[0m \u001b[0mcontent\u001b[0m \u001b[1;32min\u001b[0m \u001b[0mcontents\u001b[0m\u001b[1;33m:\u001b[0m\u001b[1;33m\u001b[0m\u001b[1;33m\u001b[0m\u001b[0m\n\u001b[1;32m----> 7\u001b[1;33m     \u001b[0mcommentCount\u001b[0m \u001b[1;33m+=\u001b[0m \u001b[0md\u001b[0m\u001b[1;33m[\u001b[0m\u001b[1;34m'commentCount'\u001b[0m\u001b[1;33m]\u001b[0m\u001b[1;33m\u001b[0m\u001b[1;33m\u001b[0m\u001b[0m\n\u001b[0m\u001b[0;32m      8\u001b[0m     \u001b[0mlikeCount\u001b[0m \u001b[1;33m+=\u001b[0m \u001b[0md\u001b[0m\u001b[1;33m[\u001b[0m\u001b[1;34m'likeCount'\u001b[0m\u001b[1;33m]\u001b[0m\u001b[1;33m\u001b[0m\u001b[1;33m\u001b[0m\u001b[0m\n\u001b[0;32m      9\u001b[0m \u001b[1;33m\u001b[0m\u001b[0m\n",
      "\u001b[1;31mNameError\u001b[0m: name 'commentCount' is not defined"
     ]
    }
   ],
   "source": [
    "# 3. 計算熱門/非熱門文章的「平均留言人數」與「平均按讚人數」\n",
    "r = requests.get('https://www.dcard.tw/_api/forums/pet/posts?popular=true')\n",
    "contents = json.loads(r.text)\n",
    "comment_Count = 0\n",
    "like_Count = 0\n",
    "for content in contents:\n",
    "    commentCount += d['commentCount']\n",
    "    likeCount += d['likeCount']\n",
    "\n",
    "print(comment_Count/len(contents), like_Count/len(contents))\n",
    "\n",
    "r = requests.get('https://www.dcard.tw/_api/forums/job/posts?popular=false')\n",
    "data = json.loads(r.text)\n",
    "comment_Count = 0\n",
    "like_Count = 0\n",
    "for d in data:\n",
    "    comment_Count += d['comment_Count']\n",
    "    like_Count += d['like_Count']\n",
    "\n",
    "print(comment_Count/len(data), likeCount/len(data))"
   ]
  },
  {
   "cell_type": "code",
   "execution_count": null,
   "metadata": {},
   "outputs": [],
   "source": []
  },
  {
   "cell_type": "code",
   "execution_count": null,
   "metadata": {},
   "outputs": [],
   "source": []
  }
 ],
 "metadata": {
  "kernelspec": {
   "display_name": "Python 3",
   "language": "python",
   "name": "python3"
  },
  "language_info": {
   "codemirror_mode": {
    "name": "ipython",
    "version": 3
   },
   "file_extension": ".py",
   "mimetype": "text/x-python",
   "name": "python",
   "nbconvert_exporter": "python",
   "pygments_lexer": "ipython3",
   "version": "3.7.4"
  }
 },
 "nbformat": 4,
 "nbformat_minor": 2
}
