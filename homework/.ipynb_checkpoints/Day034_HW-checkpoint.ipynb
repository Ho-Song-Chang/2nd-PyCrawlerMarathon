{
 "cells": [
  {
   "cell_type": "markdown",
   "metadata": {
    "colab_type": "text",
    "id": "I8CoX4R7VoCd"
   },
   "source": [
    "# 反爬：代理伺服器/IP\n",
    "\n",
    "* 了解「IP 黑/白名單」的反爬蟲機制\n",
    "* 「IP 黑/白名單」反爬蟲的因應策略"
   ]
  },
  {
   "cell_type": "markdown",
   "metadata": {
    "colab_type": "text",
    "id": "n-3DZ_r5VoCe"
   },
   "source": [
    "## 作業目標\n",
    "\n",
    "* 目前程式中的 proxy_ips 是手動輸入的，請根據 https://free-proxy-list.net/ 寫一個可自動化抓取可用 Proxy 的 proxy_ips。\n",
    "\n",
    "\n"
   ]
  },
  {
   "cell_type": "code",
   "execution_count": 11,
   "metadata": {},
   "outputs": [],
   "source": [
    "import requests\n",
    "from bs4 import BeautifulSoup\n",
    "import random"
   ]
  },
  {
   "cell_type": "code",
   "execution_count": 15,
   "metadata": {
    "colab": {},
    "colab_type": "code",
    "id": "iny-9heBVoCf"
   },
   "outputs": [
    {
     "name": "stdout",
     "output_type": "stream",
     "text": [
      "['62.201.220.50:43031', '31.131.67.14:8080', '50.197.38.230:60724', '82.100.63.181:40962', '103.126.218.68:8080', '188.65.237.46:49733', '94.153.157.18:50475', '193.193.71.178:43857', '186.42.97.58:52842', '54.169.9.36:3128', '1.20.103.248:52574', '179.27.83.222:57096', '51.91.158.22:3128', '176.63.205.248:54621', '46.63.71.13:8080', '197.210.153.126:52634', '117.222.61.218:54082', '200.70.22.74:8080', '109.232.106.236:35423', '195.154.42.97:5836', '178.128.166.221:80', '118.174.65.137:31682', '45.234.200.18:53281', '8.9.36.204:4065', '103.240.161.109:6666', '91.203.114.74:53645', '114.7.195.198:8080', '187.120.253.119:30181', '157.245.62.184:3000', '61.118.35.94:55725', '118.173.233.80:31559', '1.186.139.9:54754', '94.103.12.41:3838', '103.250.157.43:38641', '175.212.226.7:80', '31.179.224.42:38263', '104.148.76.164:3128', '14.38.255.42:80', '165.98.53.38:35332', '167.172.191.249:39193', '202.57.55.242:45112', '41.188.164.216:80', '58.82.240.213:80', '51.158.78.179:8811', '189.113.217.35:35693', '36.91.219.170:55443', '185.128.37.4:8080', '188.40.183.188:1080', '1.179.183.73:30025', '51.77.149.1:3142']\n"
     ]
    }
   ],
   "source": [
    "proxy_ips = []\n",
    "\n",
    "headers = {'User-Agent': 'Mozilla/5.0 (Macintosh; Intel Mac OS X 10_11_5) AppleWebKit/537.36 (KHTML, like Gecko) Cafari/537.36'}\n",
    "url = 'https://free-proxy-list.net/'\n",
    "response = requests.get(url, headers=headers)\n",
    "soup = BeautifulSoup(response.text, 'lxml')\n",
    "\n",
    "for tr in soup.find('tbody').find_all('tr')[:50]:\n",
    "    proxy = tr.find_all('td')[0].text + ':' + tr.find_all('td')[1].text\n",
    "    proxy_ips.append(proxy)\n",
    "    \n",
    "print(proxy_ips)"
   ]
  },
  {
   "cell_type": "code",
   "execution_count": 13,
   "metadata": {
    "colab": {},
    "colab_type": "code",
    "id": "75dIsHjiVoCi"
   },
   "outputs": [
    {
     "name": "stdout",
     "output_type": "stream",
     "text": [
      "Use 92.222.180.156:8080\n",
      "Your IP address: 92.222.180.156\n",
      "Use 191.233.198.207:8080\n",
      "Your IP address: 191.233.198.207\n",
      "Use 142.93.66.178:8080\n",
      "Fail\n",
      "Use 165.16.3.149:53281\n",
      "Fail\n",
      "Use 138.68.240.218:8080\n",
      "Your IP address: 138.68.240.218\n",
      "Use 167.71.5.83:8080\n",
      "Your IP address: 167.71.5.83\n",
      "Use 103.76.190.210:49939\n",
      "Your IP address: 103.76.190.210\n",
      "Use 139.180.184.204:3128\n",
      "Fail\n",
      "Use 51.158.108.135:8811\n",
      "Your IP address: 51.158.108.135\n",
      "Use 104.154.143.77:3128\n",
      "Your IP address: 34.68.22.136\n"
     ]
    }
   ],
   "source": [
    "for i in range(10):\n",
    "    ip = random.choice(proxy_ips)\n",
    "    print('Use', ip)\n",
    "    try:\n",
    "        resp = requests.get('http://ip.filefab.com/index.php',\n",
    "                        proxies={'http': ip, 'https': ip}, timeout=10)\n",
    "        soup = BeautifulSoup(resp.text, 'html5lib')\n",
    "        print(soup.find('h1', id='ipd').text.strip())\n",
    "    except:\n",
    "        print('Fail')"
   ]
  },
  {
   "cell_type": "code",
   "execution_count": null,
   "metadata": {},
   "outputs": [],
   "source": []
  }
 ],
 "metadata": {
  "colab": {
   "name": "homework.ipynb",
   "provenance": []
  },
  "kernelspec": {
   "display_name": "Python 3",
   "language": "python",
   "name": "python3"
  },
  "language_info": {
   "codemirror_mode": {
    "name": "ipython",
    "version": 3
   },
   "file_extension": ".py",
   "mimetype": "text/x-python",
   "name": "python",
   "nbconvert_exporter": "python",
   "pygments_lexer": "ipython3",
   "version": "3.7.4"
  }
 },
 "nbformat": 4,
 "nbformat_minor": 1
}
