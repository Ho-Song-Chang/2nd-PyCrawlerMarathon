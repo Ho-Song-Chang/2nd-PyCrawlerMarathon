{
 "cells": [
  {
   "cell_type": "markdown",
   "metadata": {},
   "source": [
    "# 動態網頁爬蟲 - API Request\n",
    "\n",
    "* 了解 API Request 用於動態網頁爬蟲的原理\n",
    "* 能夠使用 API Request 撰寫動態網頁爬蟲\n",
    "\n",
    "\n",
    "\n",
    "\n"
   ]
  },
  {
   "cell_type": "markdown",
   "metadata": {},
   "source": [
    "## 作業目標\n",
    "\n",
    "\n",
    "* 根據範例使用 API 取出 高雄市小港區 2019 年 空氣品質 資料，並用一個適合的資料結構儲存\n",
    "* Hint: 將所有資料存在一個變數當中\n"
   ]
  },
  {
   "cell_type": "code",
   "execution_count": 3,
   "metadata": {},
   "outputs": [
    {
     "data": {
      "text/plain": [
       "200"
      ]
     },
     "execution_count": 3,
     "metadata": {},
     "output_type": "execute_result"
    }
   ],
   "source": [
    "import requests\n",
    "url = 'https://taqm.epa.gov.tw/taqm/tw/MonthlyAverage.aspx'\n",
    "payload = {\n",
    "    'riptManager1': 'ctl05$UpdatePanel1|ctl05$btnQuery',\n",
    "    '__VIEWSTATE': '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',\n",
    "    '__VIEWSTATEGENERATOR': '0C858E1A',\n",
    "    '__EVENTVALIDATION': 'UJLXMRTSqnWQLaUdaY5+SsuNwmxzpglrAU5KtLltBLm6TYF60WJUvT1jovTHyyBzDz1ibej8Rv4+DG00Je+T5IFWgq2NN3fbvtzWtRPpvGoeHo93BAa0peHkf6Mphmj22MNwjlTz4PYLgg00zzsvm36n4jGhZ7NaU5rJkHQghkRsgwqkuESKPs8GC9Z3TZaJpL9/3wPVcExQ1OLmSxcq1u+EWbxh++wbmmRLtDWHyP65+eR2z9bNGXPZAXNLwMWw9GRB7ifr9xYpLHwg3QZGxvNw4CcFwtJEc5lLjG55RxGqKkOVffUAfO8TGgzBXmsViE2gN6Yd8ZM2Mb/Qq/ofvv44Tp0IChctuTx70+9JIG2zmqa5GTy8+z8anaMa7oLm0TmeONTtC+P1ocmfbSd2paxZxOLgMocPBTdeyh+/kkIJ7rNNiEHRi+s33uEtACYVPxpmGCy+ymKq7SsEgGegGXo/4IyLr1AtdQi36igFqy772FPLa64W+wufH3CnjeooCGQQJ4n39W4XJm0PwP6MIOTCHsJJ1l1cT7bPKL+O3/DHVr5LZGhn9+TQU/1b12hS2tAjBuP9QaBU4uK0ECPAYd1ZZdZgFUFGVD7meKBy5lLu0uYNDhwsZM98iLTQ+uzXBwz+1/O0237jTKQ6c6kXPbbNOhTWtE2dyIFLfRrsmSY9oRmNvEWL/x+eA5bUTL9Uj7QTzV8xnEPdYv5orhfqny97QxZOzhTnyPl6SCTmNpKT9QUNzpQro6bfd8GeiH75fZXrBstUiWDCNjVmij33GXJZ16Avdm+Sjmc9b5dnYOD8QesWC3rTxeGR0d00CSckYo9qMyGVWnhR86etFRNx3t5cWlQ8ZjBxlPSekheSa0NmNX+O1fwnJvDB0bh2cFucEM4vTqmeylwYzmb1nOG2pOd+lJiUTGmol9i7FWlJ0P5ROqGrSx7Lh2XZM73yrln/seK9b5/noHfhoIWf3EEB9gkxF8A=',\n",
    "    'ctl05$ddlSite': '11',\n",
    "    'ctl05$ddlYear': '2020',\n",
    "    'ctl05$btnQuery': '查詢'\n",
    "}\n",
    "r = requests.post(url, data=payload)\n",
    "r.status_code"
   ]
  },
  {
   "cell_type": "markdown",
   "metadata": {},
   "source": [
    "![](https://imgur.com/obLkbFe.jpg)"
   ]
  },
  {
   "cell_type": "code",
   "execution_count": 5,
   "metadata": {},
   "outputs": [
    {
     "name": "stdout",
     "output_type": "stream",
     "text": [
      "<table align=\"Center\" border=\"1\" cellpadding=\"3\" cellspacing=\"0\" class=\"TABLE_G\" id=\"ctl05_gv\" rules=\"all\" style=\"border-color:Black;border-width:1px;border-style:None;border-collapse:collapse;\">\n",
      "<tr style=\"color:Black;font-weight:normal;\">\n",
      "<th scope=\"col\">監測項目</th><th scope=\"col\">單位</th><th scope=\"col\">監測日期</th><th scope=\"col\">監測值</th><th scope=\"col\">標註</th>\n",
      "</tr><tr style=\"color:Black;\">\n",
      "<td class=\"no-alt\" rowspan=\"2\" style=\"white-space:nowrap;\" valign=\"top\">SO2</td><td class=\"no-alt\" rowspan=\"2\" valign=\"top\">ppb</td><td>2020/01</td><td>1.80</td><td> </td>\n",
      "</tr><tr class=\"ALT\" style=\"color:Black;\">\n",
      "<td>2020/02</td><td>1.70</td><td> </td>\n",
      "</tr><tr style=\"color:Black;\">\n",
      "<td class=\"no-alt\" rowspan=\"2\" style=\"white-space:nowrap;\" valign=\"top\">CO</td><td class=\"no-alt\" rowspan=\"2\" valign=\"top\">ppm</td><td>2020/01</td><td>0.44</td><td> </td>\n",
      "</tr><tr class=\"ALT\" style=\"color:Black;\">\n",
      "<td>2020/02</td><td>0.40</td><td> </td>\n",
      "</tr><tr style=\"color:Black;\">\n",
      "<td class=\"no-alt\" rowspan=\"2\" style=\"white-space:nowrap;\" valign=\"top\">O3</td><td class=\"no-alt\" rowspan=\"2\" valign=\"top\">ppb</td><td>2020/01</td><td>33.90</td><td> </td>\n",
      "</tr><tr class=\"ALT\" style=\"color:Black;\">\n",
      "<td>2020/02</td><td>36.10</td><td> </td>\n",
      "</tr><tr style=\"color:Black;\">\n",
      "<td class=\"no-alt\" rowspan=\"2\" style=\"white-space:nowrap;\" valign=\"top\">PM10</td><td class=\"no-alt\" rowspan=\"2\" valign=\"top\">μg/m3</td><td>2020/01</td><td>24</td><td> </td>\n",
      "</tr><tr class=\"ALT\" style=\"color:Black;\">\n",
      "<td>2020/02</td><td>26</td><td> </td>\n",
      "</tr><tr style=\"color:Black;\">\n",
      "<td class=\"no-alt\" rowspan=\"2\" style=\"white-space:nowrap;\" valign=\"top\">NOx</td><td class=\"no-alt\" rowspan=\"2\" valign=\"top\">ppb</td><td>2020/01</td><td>16.84</td><td> </td>\n",
      "</tr><tr class=\"ALT\" style=\"color:Black;\">\n",
      "<td>2020/02</td><td>17.89</td><td> </td>\n",
      "</tr><tr style=\"color:Black;\">\n",
      "<td class=\"no-alt\" rowspan=\"2\" style=\"white-space:nowrap;\" valign=\"top\">NO</td><td class=\"no-alt\" rowspan=\"2\" valign=\"top\">ppb</td><td>2020/01</td><td>3.61</td><td> </td>\n",
      "</tr><tr class=\"ALT\" style=\"color:Black;\">\n",
      "<td>2020/02</td><td>4.31</td><td> </td>\n",
      "</tr><tr style=\"color:Black;\">\n",
      "<td class=\"no-alt\" rowspan=\"2\" style=\"white-space:nowrap;\" valign=\"top\">NO2</td><td class=\"no-alt\" rowspan=\"2\" valign=\"top\">ppb</td><td>2020/01</td><td>13.23</td><td> </td>\n",
      "</tr><tr class=\"ALT\" style=\"color:Black;\">\n",
      "<td>2020/02</td><td>13.58</td><td> </td>\n",
      "</tr><tr style=\"color:Black;\">\n",
      "<td class=\"no-alt\" rowspan=\"1\" style=\"white-space:nowrap;\" valign=\"top\">THC</td><td class=\"no-alt\" rowspan=\"1\" valign=\"top\">ppm</td><td> </td><td> </td><td>無此測項</td>\n",
      "</tr><tr class=\"ALT\" style=\"color:Black;\">\n",
      "<td class=\"no-alt\" rowspan=\"1\" style=\"white-space:nowrap;\" valign=\"top\">NMHC</td><td class=\"no-alt\" rowspan=\"1\" valign=\"top\">ppm</td><td> </td><td> </td><td>無此測項</td>\n",
      "</tr><tr style=\"color:Black;\">\n",
      "<td style=\"white-space:nowrap;\">CH4</td><td>ppm</td><td> </td><td> </td><td>無此測項</td>\n",
      "</tr>\n",
      "</table>\n"
     ]
    }
   ],
   "source": [
    "from bs4 import BeautifulSoup\n",
    "\n",
    "soup = BeautifulSoup(r.text, 'html.parser')\n",
    "table = soup.find('table', class_='TABLE_G')\n",
    "print(table)"
   ]
  },
  {
   "cell_type": "code",
   "execution_count": 6,
   "metadata": {},
   "outputs": [
    {
     "name": "stdout",
     "output_type": "stream",
     "text": [
      "{'SO2': {'2020/01': '1.80', '2020/02': '1.70'}, 'CO': {'2020/01': '0.44', '2020/02': '0.40'}, 'O3': {'2020/01': '33.90', '2020/02': '36.10'}, 'PM10': {'2020/01': '24', '2020/02': '26'}, 'NOx': {'2020/01': '16.84', '2020/02': '17.89'}, 'NO': {'2020/01': '3.61', '2020/02': '4.31'}, 'NO2': {'2020/01': '13.23', '2020/02': '13.58'}, 'THC': {'\\xa0': '\\xa0'}, 'NMHC': {'\\xa0': '\\xa0'}, 'CH4': {'\\xa0': '\\xa0'}}\n"
     ]
    }
   ],
   "source": [
    "d = {}\n",
    "for tr in table.find_all('tr')[1:]:\n",
    "\n",
    "    for i, td in enumerate(tr.find_all('td')):\n",
    "        \n",
    "        if len(tr.find_all('td')) == 5:\n",
    "            if i == 0:\n",
    "                obs = td.text\n",
    "                d.setdefault(obs, {})\n",
    "            if i == 2:\n",
    "                date = td.text\n",
    "            if i == 3:\n",
    "                value = td.text\n",
    "                d[obs][date] = value\n",
    "        \n",
    "        if len(tr.find_all('td')) == 3:\n",
    "            if i == 0:\n",
    "                date = td.text\n",
    "            if i == 1:\n",
    "                value = td.text\n",
    "                d[obs][date] = value\n",
    "print(d)"
   ]
  },
  {
   "cell_type": "code",
   "execution_count": 7,
   "metadata": {},
   "outputs": [
    {
     "data": {
      "text/html": [
       "<div>\n",
       "<style scoped>\n",
       "    .dataframe tbody tr th:only-of-type {\n",
       "        vertical-align: middle;\n",
       "    }\n",
       "\n",
       "    .dataframe tbody tr th {\n",
       "        vertical-align: top;\n",
       "    }\n",
       "\n",
       "    .dataframe thead th {\n",
       "        text-align: right;\n",
       "    }\n",
       "</style>\n",
       "<table border=\"1\" class=\"dataframe\">\n",
       "  <thead>\n",
       "    <tr style=\"text-align: right;\">\n",
       "      <th></th>\n",
       "      <th>SO2</th>\n",
       "      <th>CO</th>\n",
       "      <th>O3</th>\n",
       "      <th>PM10</th>\n",
       "      <th>NOx</th>\n",
       "      <th>NO</th>\n",
       "      <th>NO2</th>\n",
       "      <th>THC</th>\n",
       "      <th>NMHC</th>\n",
       "      <th>CH4</th>\n",
       "    </tr>\n",
       "  </thead>\n",
       "  <tbody>\n",
       "    <tr>\n",
       "      <th>2020/01</th>\n",
       "      <td>1.80</td>\n",
       "      <td>0.44</td>\n",
       "      <td>33.90</td>\n",
       "      <td>24</td>\n",
       "      <td>16.84</td>\n",
       "      <td>3.61</td>\n",
       "      <td>13.23</td>\n",
       "      <td>NaN</td>\n",
       "      <td>NaN</td>\n",
       "      <td>NaN</td>\n",
       "    </tr>\n",
       "    <tr>\n",
       "      <th>2020/02</th>\n",
       "      <td>1.70</td>\n",
       "      <td>0.40</td>\n",
       "      <td>36.10</td>\n",
       "      <td>26</td>\n",
       "      <td>17.89</td>\n",
       "      <td>4.31</td>\n",
       "      <td>13.58</td>\n",
       "      <td>NaN</td>\n",
       "      <td>NaN</td>\n",
       "      <td>NaN</td>\n",
       "    </tr>\n",
       "    <tr>\n",
       "      <th></th>\n",
       "      <td>NaN</td>\n",
       "      <td>NaN</td>\n",
       "      <td>NaN</td>\n",
       "      <td>NaN</td>\n",
       "      <td>NaN</td>\n",
       "      <td>NaN</td>\n",
       "      <td>NaN</td>\n",
       "      <td></td>\n",
       "      <td></td>\n",
       "      <td></td>\n",
       "    </tr>\n",
       "  </tbody>\n",
       "</table>\n",
       "</div>"
      ],
      "text/plain": [
       "          SO2    CO     O3 PM10    NOx    NO    NO2  THC NMHC  CH4\n",
       "2020/01  1.80  0.44  33.90   24  16.84  3.61  13.23  NaN  NaN  NaN\n",
       "2020/02  1.70  0.40  36.10   26  17.89  4.31  13.58  NaN  NaN  NaN\n",
       "          NaN   NaN    NaN  NaN    NaN   NaN    NaN               "
      ]
     },
     "execution_count": 7,
     "metadata": {},
     "output_type": "execute_result"
    }
   ],
   "source": [
    "import pandas as pd\n",
    "pd.DataFrame(d)"
   ]
  },
  {
   "cell_type": "code",
   "execution_count": null,
   "metadata": {},
   "outputs": [],
   "source": []
  },
  {
   "cell_type": "code",
   "execution_count": null,
   "metadata": {},
   "outputs": [],
   "source": []
  }
 ],
 "metadata": {
  "kernelspec": {
   "display_name": "Python 3",
   "language": "python",
   "name": "python3"
  },
  "language_info": {
   "codemirror_mode": {
    "name": "ipython",
    "version": 3
   },
   "file_extension": ".py",
   "mimetype": "text/x-python",
   "name": "python",
   "nbconvert_exporter": "python",
   "pygments_lexer": "ipython3",
   "version": "3.7.4"
  }
 },
 "nbformat": 4,
 "nbformat_minor": 2
}
