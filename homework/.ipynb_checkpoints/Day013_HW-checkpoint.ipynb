{
 "cells": [
  {
   "cell_type": "markdown",
   "metadata": {},
   "source": [
    "# PTT 網路爬蟲實作練習\n",
    "\n",
    "\n",
    "* 能夠利用 Request + BeatifulSour 撰寫爬蟲，並存放到合適的資料結構\n"
   ]
  },
  {
   "cell_type": "markdown",
   "metadata": {},
   "source": [
    "## 作業目標\n",
    "\n",
    "根據範例 ，完成以下問題：\n",
    "\n",
    "* ① 印出最新文章的「作者」「標題」「時間」\n",
    "* ② 印出第一頁所有文章的「作者」「標題」「時間」\n"
   ]
  },
  {
   "cell_type": "markdown",
   "metadata": {},
   "source": [
    "### ① 印出最新文章的「作者」「標題」「時間」"
   ]
  },
  {
   "cell_type": "code",
   "execution_count": 16,
   "metadata": {},
   "outputs": [
    {
     "data": {
      "text/plain": [
       "{'標題': 'Fw: [公告] 即日起開放 NTU 信箱註冊帳號',\n",
       " '作者': 'Vedan (味丹)',\n",
       " '時間': 'Wed Mar  4 12:50:19 2020'}"
      ]
     },
     "execution_count": 16,
     "metadata": {},
     "output_type": "execute_result"
    }
   ],
   "source": [
    "import requests\n",
    "from bs4 import BeautifulSoup\n",
    "\n",
    "url = 'https://www.ptt.cc/bbs/NBA/index.html'\n",
    "r = requests.get(url)\n",
    "soup = BeautifulSoup(r.text,\"html5lib\")\n",
    "posts = []\n",
    "\n",
    "for d in soup.find_all(class_=\"title\"):\n",
    "    try:\n",
    "        post = {}\n",
    "        post['標題'] = d.text.replace('\\t', '').replace('\\n', '')\n",
    "        \n",
    "        r = BeautifulSoup(requests.get('https://www.ptt.cc'+d.find('a')['href']).text, \"html5lib\")\n",
    "        post['作者'] = r.find(class_='article-meta-value').text\n",
    "        post['時間'] = r.find_all(class_='article-meta-value')[-1].text\n",
    "        \n",
    "        posts.append(post)\n",
    "    except:\n",
    "        continue\n",
    "        \n",
    "posts = sorted(posts, key= lambda x: x['時間'])\n",
    "# 補充：List of Dict 的排序方法\n",
    "# https://stackoverflow.com/questions/72899/how-do-i-sort-a-list-of-dictionaries-by-a-value-of-the-dictionary\n",
    "posts[-1]"
   ]
  },
  {
   "cell_type": "markdown",
   "metadata": {},
   "source": [
    "### ② 印出第一頁所有文章的「作者」「標題」「時間」"
   ]
  },
  {
   "cell_type": "code",
   "execution_count": 6,
   "metadata": {},
   "outputs": [
    {
     "name": "stdout",
     "output_type": "stream",
     "text": [
      "[情報] 蘭德爾：羅賓遜不用擔心技犯，我會幫他付\n",
      "作者:PttGod\n",
      "日期: 3/09\n",
      "Re: [情報] SNY記者：一些籃網老將質疑阿特金森能否\n",
      "作者:Ginpunch\n",
      "日期: 3/09\n",
      "[新聞] 重建有功仍再見 波總幫說話\n",
      "作者:go190214\n",
      "日期: 3/09\n",
      "[花邊] 憤怒的獅王！詹姆斯發怒吼慶祝照自比雄獅\n",
      "作者:PttGod\n",
      "日期: 3/09\n",
      "[公告] 板規v6.8\n",
      "作者:Vedan\n",
      "日期: 5/24\n",
      "[公告] 版主上任相關事項 \n",
      "作者:qazwsx879345\n",
      "日期:10/25\n",
      "[情報] SEASON Schedule 賽程 March 19–20\n",
      "作者:Acetoxy\n",
      "日期: 3/02\n",
      "Fw: [公告] 即日起開放 NTU 信箱註冊帳號\n",
      "作者:Vedan\n",
      "日期: 3/04\n",
      "[公告] 第一次被退文，可在三天後刪除退文\n",
      "作者:Vedan\n",
      "日期: 3/09\n"
     ]
    }
   ],
   "source": [
    "root = BeautifulSoup(r.text,\"html5lib\")\n",
    "titles = root.find_all(class_ = 'title')\n",
    "authors = root.find_all(class_ = 'author')\n",
    "dates = root.find_all(class_ = 'date')\n",
    "index = 0\n",
    "for title in titles:\n",
    "    print(title.text.replace('\\t', '').replace('\\n', ''))\n",
    "    print('作者:'+ authors[index].text)\n",
    "    print('日期:'+ dates[index].text)\n",
    "    index+=1"
   ]
  },
  {
   "cell_type": "markdown",
   "metadata": {},
   "source": [
    "### ③ 試著爬爬看其他版的文章"
   ]
  },
  {
   "cell_type": "code",
   "execution_count": 9,
   "metadata": {},
   "outputs": [
    {
     "name": "stdout",
     "output_type": "stream",
     "text": [
      "Re: [請益] 沒啥複雜技術，可是卻不是一般人能做出\n",
      "作者:vi000246\n",
      "日期: 3/09\n",
      "Re: [請益] 沒啥複雜技術，可是卻不是一般人能做出\n",
      "作者:cateran\n",
      "日期: 3/09\n",
      "[分享] Scrum 的適合場景：「外包團隊」 \n",
      "作者:MOONY135\n",
      "日期: 3/09\n",
      "[徵才] 英商台灣士瑞克保全徵軟體工程師\n",
      "作者:wt8949\n",
      "日期: 3/09\n",
      "[心得] 2020-3-9 每日新聞\n",
      "作者:damody\n",
      "日期: 3/09\n",
      "(本文已被刪除) [ch1rmon]\n",
      "作者:-\n",
      "日期: 3/09\n",
      "[請益] 找工作遇到駐點的公司  應該要怎麼辦\n",
      "作者:akk98\n",
      "日期: 3/09\n",
      "[請益] 關於北科大跟德州大學的雙碩士學位\n",
      "作者:black0624\n",
      "日期: 3/09\n",
      "[公告] 本板板規  2017/4/10更新\n",
      "作者:MOONY135\n",
      "日期: 8/04\n",
      "[公告] 徵才不符板規或徵才自刪公司\n",
      "作者:MOONY135\n",
      "日期: 8/04\n",
      "[情報] 訓練課程與付費APP與網站分享\n",
      "作者:MOONY135\n",
      "日期: 8/04\n",
      "[情報] 社群活動與免費APP與網站分享\n",
      "作者:MOONY135\n",
      "日期: 8/04\n",
      "Fw: [公告] 請使用安全的連線方式連線本站\n",
      "作者:MOONY135\n",
      "日期:11/24\n"
     ]
    }
   ],
   "source": [
    "soft = 'https://www.ptt.cc/bbs/Soft_Job/index.html'\n",
    "req = requests.get(soft)\n",
    "root2 = BeautifulSoup(req.text)\n",
    "titles = root2.find_all(class_ = 'title')\n",
    "authors = root2.find_all(class_ = 'author')\n",
    "dates = root2.find_all(class_ = 'date')\n",
    "index = 0\n",
    "for title in titles:\n",
    "    print(title.text.replace('\\t', '').replace('\\n', ''))\n",
    "    print('作者:'+ authors[index].text)\n",
    "    print('日期:'+ dates[index].text)\n",
    "    index+=1"
   ]
  },
  {
   "cell_type": "code",
   "execution_count": null,
   "metadata": {},
   "outputs": [],
   "source": []
  }
 ],
 "metadata": {
  "kernelspec": {
   "display_name": "Python 3",
   "language": "python",
   "name": "python3"
  },
  "language_info": {
   "codemirror_mode": {
    "name": "ipython",
    "version": 3
   },
   "file_extension": ".py",
   "mimetype": "text/x-python",
   "name": "python",
   "nbconvert_exporter": "python",
   "pygments_lexer": "ipython3",
   "version": "3.7.4"
  }
 },
 "nbformat": 4,
 "nbformat_minor": 2
}
