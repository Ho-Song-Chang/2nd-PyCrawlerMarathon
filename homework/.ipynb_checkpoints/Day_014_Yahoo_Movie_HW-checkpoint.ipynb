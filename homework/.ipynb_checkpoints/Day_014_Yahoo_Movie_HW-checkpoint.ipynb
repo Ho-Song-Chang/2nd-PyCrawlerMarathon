{
 "cells": [
  {
   "cell_type": "markdown",
   "metadata": {},
   "source": [
    "# YAHOO電影爬蟲練習\n",
    "## 練習爬取電影放映資訊。必須逐步獲取電影的代號、放映地區、放映日期後，再送出查詢給伺服器。"
   ]
  },
  {
   "cell_type": "code",
   "execution_count": 2,
   "metadata": {},
   "outputs": [],
   "source": [
    "import requests\n",
    "import re\n",
    "from bs4 import BeautifulSoup"
   ]
  },
  {
   "cell_type": "markdown",
   "metadata": {},
   "source": [
    "### 先搜尋全部的電影代號(ID)資訊"
   ]
  },
  {
   "cell_type": "code",
   "execution_count": 16,
   "metadata": {},
   "outputs": [
    {
     "name": "stdout",
     "output_type": "stream",
     "text": [
      "導演先生的完美假期 : 10545\n",
      "大地蜜語 : 10513\n",
      "狂飆一夢 : 10506\n",
      "親愛的莎瑪 : 10491\n",
      "大畫特務 : 10478\n",
      "戰慄糖果屋 : 10472\n",
      "失戀殺人：三角禁戀 : 10465\n",
      "明明會說話 : 10440\n",
      "艾瑪 : 10396\n",
      "罪樂園 : 10349\n",
      "寄生上流：黑白版 : 10527\n",
      "千日千夜 : 10490\n",
      "咒怨2 電影版 : 10464\n",
      "鳴鳥不飛：烏雲密布 : 10458\n",
      "哥布林殺手 劇場版 : 10438\n",
      "女鬼橋 : 10437\n",
      "怨咒 : 10421\n",
      "娘娘腔日記 : 10401\n",
      "汪星人的奇幻漂流 : 10388\n",
      "極地守護犬 : 10383\n",
      "叔．叔 : 10371\n",
      "隱形人 : 10359\n",
      "失路人 : 10498\n",
      "電影音效傳奇：好萊塢之聲 : 10484\n",
      "悲慘世界 : 10479\n",
      "吹哨奇案 : 10475\n",
      "閃閃小超人電影版 : 10474\n",
      "少年阿罕默德 : 10468\n",
      "咒怨 電影版 : 10463\n",
      "陰櫥 : 10457\n",
      "絕命大平台 : 10447\n",
      "李察朱威爾事件 : 10368\n",
      "音速小子 : 9246\n",
      "你好．愛．再見 : 10501\n",
      "逃出夢幻島 : 10485\n",
      "雨天．紐約 : 10476\n",
      "超＂人＂氣動物園 : 10445\n",
      "就愛斷捨離 : 10436\n",
      "愛情人形 : 10394\n",
      "蜜蜂與遠雷 : 10419\n",
      "電影版 輝夜姬想讓人告白～天才們的戀愛頭腦戰～ : 10405\n",
      "古曼童 : 10399\n",
      "猛禽小隊：小丑女大解放 : 10268\n",
      "紅鞋公主與七矮人 : 10417\n",
      "1917 : 10189\n",
      "你的情歌 : 10407\n",
      "杜立德 : 10316\n",
      "她們 : 10202\n",
      "變身特務 : 9008\n",
      "巧虎電影：英雄遊樂園 : 10429\n",
      "青春催落去 : 10404\n",
      "絕地戰警FOR LIFE : 10242\n",
      "星星知我心 : 10409\n",
      "逃出天堂島 : 10384\n",
      "魯邦三世 The First : 10355\n",
      "別告訴她 : 10382\n",
      "真愛裁會贏 : 10362\n",
      "潛艦追緝 : 10333\n",
      "霹靂嬌娃 : 10124\n",
      "CATS貓 : 10166\n",
      "STAR WARS : 天行者的崛起 : 10225\n",
      "復仇母親 : 10392\n",
      "8級警戒 : 10323\n",
      "黑色聖誕節 : 10291\n",
      "去年聖誕節 : 10256\n",
      "野蠻遊戲：全面晉級 : 10134\n",
      "寂寞診療室 : 10282\n",
      "賽道狂人 : 10097\n",
      "冰雪奇緣2 : 9597\n",
      "萬萬沒想到 : 10281\n",
      "救火奶爸 : 10164\n",
      "決戰中途島 : 10130\n",
      "魔鬼終結者：黑暗宿命 : 10067\n",
      "絕鯊47：猛鯊出籠 : 10214\n",
      "貓咪知道但是貓咪不說 : 10203\n",
      "天氣之子 : 10091\n",
      "寄生上流 : 10020\n",
      "一首搖滾上月球 : 4887\n",
      "錢不夠用2 : 3026\n"
     ]
    }
   ],
   "source": [
    "# 查看目前上映那些電影，並擷取出其ID資訊\n",
    "url = 'https://movies.yahoo.com.tw/'\n",
    "resp = requests.get(url)\n",
    "resp.encoding = 'utf-8'\n",
    "\n",
    "soup = BeautifulSoup(resp.text, 'lxml')\n",
    "html = soup.find(\"select\", attrs={'name':'movie_id'})\n",
    "movie_item = html.find_all(\"option\")\n",
    "for item in movie_item:\n",
    "    if item.text != \"請選擇片名\":\n",
    "        print(item.text+' : '+item['value'])\n",
    "#for p in movie_item:\n",
    "    #print(\"Movie: %s, ID: %s\" % (p[\"data-name\"], p[\"value\"]))"
   ]
  },
  {
   "cell_type": "markdown",
   "metadata": {},
   "source": [
    "### 指定你有興趣的電影其ID，然後查詢其放映地區資訊。"
   ]
  },
  {
   "cell_type": "code",
   "execution_count": 17,
   "metadata": {},
   "outputs": [],
   "source": [
    "# 參考前一個步驟中擷取到的ID資訊，並指定ID\n",
    "movie_id = 10169"
   ]
  },
  {
   "cell_type": "code",
   "execution_count": 21,
   "metadata": {},
   "outputs": [],
   "source": [
    "url = 'https://movies.yahoo.com.tw/api/v1/areas_by_movie_theater'\n",
    "payload = {'movie_id':str(movie_id)}\n",
    "\n",
    "# 模擬一個header\n",
    "headers = {\n",
    "    'authority': 'movies.yahoo.com.tw',\n",
    "    'method': 'GET',\n",
    "    'path': '/api/v1/areas_by_movie_theater?movie_id=' + str(movie_id),\n",
    "    'scheme': 'https',\n",
    "    'accept': 'application/json, text/javascript, */*; q=0.01',\n",
    "    'accept-encoding': 'gzip, deflate, br',\n",
    "    'accept-language': 'zh-TW,zh;q=0.9,en-US;q=0.8,en;q=0.7,zh-CN;q=0.6',\n",
    "    'cookie': 'rxx=9s3x2fws06.1g16irnc&v=1; _ga=GA1.3.2056742944.1551651301; GUC=AQEBAQFczFpdm0IfmwSB&s=AQAAACoo4N5D&g=XMsVBw; BX=4hkdk1decm57t&b=3&s=mr; _ga=GA1.4.2056742944.1551651301; nexagesuid=82843256dd234e8e91aa73f2062f8218; browsed_movie=eyJpdiI6IlJXWWtiSWJaZlNGK2MxQnhscnVUYWc9PSIsInZhbHVlIjoiMXRhMmVHRXRIeUNjc1RBWDJzdGYwbnlIQURmWGsrcjJSMzhkbkcraDNJVUNIZEZsbzU3amlFcVZ1NzlmazJrTGpoMjVrbHk1YmpoRENXaHZTOUw1TmI2ZTZVWHdOejZQZm16RmVuMWlHTTJLaTZLVFZZVkFOMDlTd1wvSGltcytJIiwibWFjIjoiZWQ2ZjA4MmVjZmZlYjlmNjJmYmY2NGMyMDI0Njc0NWViYjVkOWE2NDg0N2RhODMxZjBjZDhiMmJhZTc2MDZhYiJ9; avi=eyJpdiI6Im1NeWFJRlVRWDR1endEcGRGUGJUbVE9PSIsInZhbHVlIjoickRpU3JuUytmcGl6cjF5OW0rNU9iZz09IiwibWFjIjoiY2VmY2NkNzZmM2NhNjY5YzlkOTcyNjE5OGEyMzU0NWYxOTdmMDRkMDY3OWNmMmZjOTMxYjc5MjI5N2Q5NGE5MiJ9; cmp=t=1559391030&j=0; _gid=GA1.4.779543841.1559391031; XSRF-TOKEN=eyJpdiI6IkhpS2hGcDRQaHlmWUJmaHdSS2Q2bHc9PSIsInZhbHVlIjoiOUVoNFk4OHI1UUZmUWRtYXhza0MyWjJSTlhlZ3RnT0VGeVJPN2JuczVRMGRFdWt2OUlsamVKeHRobFwvcHBGM0dhU3VyMXNGTHlsb2dVM2l0U1hpUGxBPT0iLCJtYWMiOiJkZWU4YzJhNjAxMTY3MzE4Y2ExNWIxYmE1ZjE1YWZlZTlhOTcyYjc4M2RlZGY4ZWNjZDYyMTA2NGYwZGViMzc2In0%3D; m_s=eyJpdiI6InpsZHZ2Tk1BZ0dxaHhETml1RjBnUXc9PSIsInZhbHVlIjoiSkNGeHUranRoXC85bDFiaDhySTJqNkJRcWdjWUxjeVRJSHVYZ1wvd2d4bWJZUTUrSHVDM0lUcW5KNHdETFZ4T1lieU81OUhzc1VoUXhZcWk0UDZSQXVFdz09IiwibWFjIjoiYmJkMDJkMDhlODIzMzcyMWY4M2NmYWNjNGVlOWRjMDIwZmVmNzAyMjE3Yzg3ZGY3ODBkZWEzZTI4MTI5ZWNmOSJ9; _gat=1; nexagesd=10',\n",
    "    'dnt': '1',\n",
    "    'mv-authorization': '21835b082e15b91a69b3851eec7b31b82ce82afb',\n",
    "    'referer': 'https://movies.yahoo.com.tw/',\n",
    "    'user-agent': 'Mozilla/5.0 (Windows NT 10.0; Win64; x64) AppleWebKit/537.36 (KHTML, like Gecko) Chrome/74.0.3729.169 Safari/537.36',\n",
    "    'x-requested-with': 'XMLHttpRequest',\n",
    "}\n",
    "    \n",
    "resp = requests.get(url, params=payload, headers=headers)\n",
    "#print(resp.json())  # 若有需要，列印出json原始碼\n",
    "\n",
    "# 這裡回傳的格式是JSON格式的資料，要解析JSON擷取資料\n",
    "for p in resp.json():\n",
    "    print('放映地區: {0}, 代號(area_id): {1}'.format(p['title'], p['area_id']))"
   ]
  },
  {
   "cell_type": "markdown",
   "metadata": {},
   "source": [
    "### 指定你想要觀看的放映地區，查詢有上映電影的場次日期"
   ]
  },
  {
   "cell_type": "code",
   "execution_count": 11,
   "metadata": {},
   "outputs": [],
   "source": [
    "# 指定放映地區\n",
    "area_id = 28"
   ]
  },
  {
   "cell_type": "code",
   "execution_count": 12,
   "metadata": {},
   "outputs": [
    {
     "name": "stdout",
     "output_type": "stream",
     "text": [
      "八月 21\n",
      "八月 22\n",
      "八月 23\n",
      "八月 24\n",
      "八月 25\n"
     ]
    }
   ],
   "source": [
    "# 向網站發送請求\n",
    "url = 'https://movies.yahoo.com.tw/movietime_result.html'\n",
    "payload = {'movie_id':str(movie_id), 'area_id':str(area_id)}\n",
    "resp = requests.get(url, params=payload)\n",
    "resp.encoding = 'utf-8'\n",
    "\n",
    "soup = BeautifulSoup(resp.text, 'lxml')\n",
    "movie_date = soup.find_all(\"label\", attrs={'for':re.compile(\"date_[\\d]\")})\n",
    "\n",
    "# 列印播放日期\n",
    "for date in movie_date:\n",
    "    print(\"%s %s\" % (date.p.string, date.h3.string))"
   ]
  },
  {
   "cell_type": "markdown",
   "metadata": {},
   "source": [
    "### 最後指定觀看的日期，查詢並列印出放映的電影院、放映類型(數位、3D、IMAX 3D...)、放映時間等資訊。"
   ]
  },
  {
   "cell_type": "code",
   "execution_count": 13,
   "metadata": {},
   "outputs": [],
   "source": [
    "# 選定要觀看的日期\n",
    "date = \"2019-08-21\""
   ]
  },
  {
   "cell_type": "code",
   "execution_count": 14,
   "metadata": {},
   "outputs": [],
   "source": [
    "# 向網站發送請求，獲取上映的電影院及時間資訊\n",
    "url = \"https://movies.yahoo.com.tw/ajax/pc/get_schedule_by_movie\"\n",
    "payload = {'movie_id':str(movie_id),\n",
    "           'date':date,\n",
    "           'area_id':str(area_id),\n",
    "           'theater_id':'',\n",
    "           'datetime':'',\n",
    "           'movie_type_id':''}\n",
    "\n",
    "resp = requests.get(url, params=payload)\n",
    "#print(resp.json()['view'])  # 若有需要，列印出json原始碼\n",
    "\n",
    "soup = BeautifulSoup(resp.json()['view'], 'lxml')\n",
    "html = soup.find_all(\"ul\", attrs={'data-theater_name':re.compile(\".*\")})"
   ]
  },
  {
   "cell_type": "code",
   "execution_count": 16,
   "metadata": {},
   "outputs": [
    {
     "name": "stdout",
     "output_type": "stream",
     "text": [
      "----------------------------------------------------------------------\n",
      "電影院:  台北美麗華大直影城\n",
      "放映類型:  數位\n",
      "2019-08-21 09:00:00\n",
      "2019-08-21 11:10:00\n",
      "2019-08-21 13:15:00\n",
      "2019-08-21 15:20:00\n",
      "2019-08-21 19:30:00\n",
      "2019-08-21 21:40:00\n",
      "2019-08-21 22:30:00\n",
      "----------------------------------------------------------------------\n",
      "電影院:  台北新光影城\n",
      "放映類型:  數位\n",
      "2019-08-21 10:00:00\n",
      "2019-08-21 14:50:00\n",
      "2019-08-21 19:30:00\n",
      "----------------------------------------------------------------------\n",
      "電影院:  台北in89豪華數位影城\n",
      "放映類型:  數位\n",
      "2019-08-21 09:30:00\n",
      "2019-08-21 11:20:00\n",
      "2019-08-21 13:15:00\n",
      "2019-08-21 15:10:00\n",
      "2019-08-21 16:10:00\n",
      "2019-08-21 17:10:00\n",
      "2019-08-21 18:05:00\n",
      "2019-08-21 19:10:00\n",
      "2019-08-21 21:10:00\n",
      "2019-08-21 23:10:00\n",
      "2019-08-22 01:10:00\n",
      "----------------------------------------------------------------------\n",
      "電影院:  台北日新威秀影城\n",
      "放映類型:  數位\n",
      "2019-08-21 09:00:00\n",
      "2019-08-21 10:55:00\n",
      "2019-08-21 12:50:00\n",
      "2019-08-21 14:45:00\n",
      "2019-08-21 16:40:00\n",
      "2019-08-21 18:35:00\n",
      "2019-08-21 20:35:00\n",
      "----------------------------------------------------------------------\n",
      "電影院:  喜滿客絕色影城\n",
      "放映類型:  數位\n",
      "2019-08-21 10:00:00\n",
      "2019-08-21 11:55:00\n",
      "2019-08-21 13:50:00\n",
      "2019-08-21 15:45:00\n",
      "2019-08-21 17:40:00\n",
      "2019-08-21 19:35:00\n",
      "2019-08-21 21:30:00\n",
      "----------------------------------------------------------------------\n",
      "電影院:  台北信義威秀影城\n",
      "放映類型:  數位\n",
      "2019-08-21 09:00:00\n",
      "2019-08-21 11:00:00\n",
      "2019-08-21 13:00:00\n",
      "2019-08-21 15:00:00\n",
      "2019-08-21 17:00:00\n",
      "2019-08-21 19:00:00\n",
      "2019-08-21 21:00:00\n",
      "2019-08-21 23:00:00\n",
      "----------------------------------------------------------------------\n",
      "電影院:  喜滿客京華影城\n",
      "放映類型:  數位\n",
      "2019-08-21 10:30:00\n",
      "2019-08-21 12:30:00\n",
      "2019-08-21 14:30:00\n",
      "2019-08-21 16:30:00\n",
      "2019-08-21 18:30:00\n",
      "2019-08-21 20:30:00\n",
      "2019-08-21 22:30:00\n",
      "----------------------------------------------------------------------\n",
      "電影院:  京站威秀影城\n",
      "放映類型:  數位\n",
      "2019-08-21 09:00:00\n",
      "2019-08-21 11:00:00\n",
      "2019-08-21 13:00:00\n",
      "2019-08-21 15:00:00\n",
      "2019-08-21 17:00:00\n",
      "2019-08-21 19:00:00\n",
      "2019-08-21 21:00:00\n",
      "----------------------------------------------------------------------\n",
      "電影院:  喜樂時代影城南港店\n",
      "放映類型:  數位\n",
      "2019-08-21 10:20:00\n",
      "2019-08-21 11:10:00\n",
      "2019-08-21 12:20:00\n",
      "2019-08-21 13:10:00\n",
      "2019-08-21 14:20:00\n",
      "2019-08-21 15:10:00\n",
      "2019-08-21 16:20:00\n",
      "2019-08-21 17:10:00\n",
      "2019-08-21 18:20:00\n",
      "2019-08-21 19:15:00\n",
      "2019-08-21 20:20:00\n",
      "2019-08-21 21:15:00\n",
      "2019-08-21 22:20:00\n"
     ]
    }
   ],
   "source": [
    "'''\n",
    "\n",
    "  試著從上一步驟回傳的電影院資料中，擷取電影院名稱、影片放映類型以及時間表\n",
    "  \n",
    "  Your code here.\n",
    "\n",
    "'''\n"
   ]
  },
  {
   "cell_type": "code",
   "execution_count": null,
   "metadata": {},
   "outputs": [],
   "source": []
  }
 ],
 "metadata": {
  "kernelspec": {
   "display_name": "Python 3",
   "language": "python",
   "name": "python3"
  },
  "language_info": {
   "codemirror_mode": {
    "name": "ipython",
    "version": 3
   },
   "file_extension": ".py",
   "mimetype": "text/x-python",
   "name": "python",
   "nbconvert_exporter": "python",
   "pygments_lexer": "ipython3",
   "version": "3.7.4"
  }
 },
 "nbformat": 4,
 "nbformat_minor": 2
}
